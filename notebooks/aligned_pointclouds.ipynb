{
 "cells": [
  {
   "cell_type": "code",
   "execution_count": 5,
   "id": "aee3962c-66eb-4f55-a885-1189cefe8fbe",
   "metadata": {},
   "outputs": [],
   "source": [
    "import open3d as o3d\n",
    "import numpy as np\n",
    "from IPython.display import display, HTML"
   ]
  },
  {
   "cell_type": "code",
   "execution_count": 6,
   "id": "3de3140d-2b51-4a97-8d3f-281b3a134567",
   "metadata": {},
   "outputs": [],
   "source": [
    "def load_point_cloud(file_path):\n",
    "    \"\"\"Load a point cloud from a file.\"\"\"\n",
    "    cloud = o3d.io.read_point_cloud(file_path)\n",
    "    return cloud\n",
    "\n",
    "def align_point_clouds(source_cloud, target_cloud):\n",
    "    \"\"\"Align two point clouds using ICP.\"\"\"\n",
    "    icp_transformation = o3d.pipelines.registration.registration_icp(\n",
    "        source_cloud, target_cloud, max_correspondence_distance=25,\n",
    "        estimation_method=o3d.pipelines.registration.TransformationEstimationPointToPoint(),\n",
    "        criteria=o3d.pipelines.registration.ICPConvergenceCriteria(max_iteration=1000)\n",
    "    )\n",
    "\n",
    "    aligned_source_cloud = source_cloud.transform(icp_transformation.transformation)\n",
    "    return aligned_source_cloud\n",
    "\n",
    "def save_point_cloud(file_path, point_cloud):\n",
    "    \"\"\"Save a point cloud to a file.\"\"\"\n",
    "    o3d.io.write_point_cloud(file_path, point_cloud)\n",
    "\n",
    "def visualize_pointcloud(pointcloud):\n",
    "    vis = o3d.visualization.Visualizer()\n",
    "    vis.create_window()\n",
    "    vis.add_geometry(pointcloud)\n",
    "\n",
    "    # Capture the generated image and display it in the notebook\n",
    "    image = vis.capture_screen_float_buffer(True)\n",
    "    display(o3d.visualization.draw_geometries_with_animation_callback([pointcloud], vis, interval=50))\n",
    "    \n",
    "    # Clean up resources after visualization\n",
    "    vis.destroy_window()\n",
    "\n",
    "def downsample_pointcloud(pointcloud, voxel_size):\n",
    "    # Voxel downsample the point cloud\n",
    "    downsampled_pc = pointcloud.voxel_down_sample(voxel_size)\n",
    "    return downsampled_pc\n",
    "    "
   ]
  },
  {
   "cell_type": "code",
   "execution_count": 7,
   "id": "d8638dd3-da33-4953-aed3-9124ff2badad",
   "metadata": {},
   "outputs": [],
   "source": [
    "ply_path = \"../output/bim.ply\"\n",
    "obj_path = \"../output/pcfull.ply\"\n",
    "\n",
    "source_cloud = load_point_cloud(ply_path)\n",
    "target_cloud = load_point_cloud(obj_path)"
   ]
  },
  {
   "cell_type": "code",
   "execution_count": 8,
   "id": "49649e38-a3f8-41a4-af6d-e676751b7dbb",
   "metadata": {},
   "outputs": [
    {
     "name": "stdout",
     "output_type": "stream",
     "text": [
      "\u001b[1;33m[Open3D WARNING] GLFW Error: X11: The DISPLAY environment variable is missing\u001b[0;m\n",
      "\u001b[1;33m[Open3D WARNING] Failed to initialize GLFW\u001b[0;m\n",
      "\u001b[1;33m[Open3D WARNING] [DrawGeometries] Failed creating OpenGL window.\u001b[0;m\n"
     ]
    }
   ],
   "source": [
    "o3d.visualization.draw_geometries([source_cloud ])"
   ]
  },
  {
   "cell_type": "code",
   "execution_count": null,
   "id": "11768913-00ff-45c8-bec5-9050e51772cf",
   "metadata": {},
   "outputs": [],
   "source": [
    "downsampled_pointcloud = downsample_pointcloud(source_cloud , voxel_size=0.005)\n",
    "visualize_pointcloud(downsampled_pointcloud)"
   ]
  },
  {
   "cell_type": "code",
   "execution_count": 4,
   "id": "54c411db-09c1-44ed-99a9-ba5b330bb0b1",
   "metadata": {},
   "outputs": [
    {
     "ename": "NameError",
     "evalue": "name 'JVisualizer' is not defined",
     "output_type": "error",
     "traceback": [
      "\u001b[0;31m---------------------------------------------------------------------------\u001b[0m",
      "\u001b[0;31mNameError\u001b[0m                                 Traceback (most recent call last)",
      "Cell \u001b[0;32mIn[4], line 1\u001b[0m\n\u001b[0;32m----> 1\u001b[0m visualizer \u001b[38;5;241m=\u001b[39m \u001b[43mJVisualizer\u001b[49m()\n\u001b[1;32m      2\u001b[0m visualizer\u001b[38;5;241m.\u001b[39madd_geometry(source_cloud)\n\u001b[1;32m      3\u001b[0m visualizer\u001b[38;5;241m.\u001b[39mshow()\n",
      "\u001b[0;31mNameError\u001b[0m: name 'JVisualizer' is not defined"
     ]
    }
   ],
   "source": [
    "visualizer = JVisualizer()\n",
    "visualizer.add_geometry(source_cloud)\n",
    "visualizer.show()"
   ]
  },
  {
   "cell_type": "code",
   "execution_count": null,
   "id": "fd5a6a55-48c3-4ba4-86ba-51c2040c9af7",
   "metadata": {},
   "outputs": [],
   "source": [
    "source_cloud = np.asarray(load_point_cloud(ply_path).points).astype(np.float32)\n",
    "target_cloud = np.asarray(load_point_cloud(obj_path).points).astype(np.float32)"
   ]
  },
  {
   "cell_type": "code",
   "execution_count": null,
   "id": "b9e7a165-8fd7-430c-a694-2b03836716ba",
   "metadata": {},
   "outputs": [],
   "source": [
    "source_center = np.mean(source_cloud, axis=0)\n",
    "print(source_center)\n",
    "target_center = np.mean(target_cloud, axis=0)\n",
    "print(target_center)\n",
    "diff = target_center - source_center\n",
    "print(diff)\n",
    "source_cloud = source_cloud + diff\n",
    "print(np.mean(source_cloud))"
   ]
  }
 ],
 "metadata": {
  "kernelspec": {
   "display_name": "Python 3 (ipykernel)",
   "language": "python",
   "name": "python3"
  },
  "language_info": {
   "codemirror_mode": {
    "name": "ipython",
    "version": 3
   },
   "file_extension": ".py",
   "mimetype": "text/x-python",
   "name": "python",
   "nbconvert_exporter": "python",
   "pygments_lexer": "ipython3",
   "version": "3.8.18"
  }
 },
 "nbformat": 4,
 "nbformat_minor": 5
}
