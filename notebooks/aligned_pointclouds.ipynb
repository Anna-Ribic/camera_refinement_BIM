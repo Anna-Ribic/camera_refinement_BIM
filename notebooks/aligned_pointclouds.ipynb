{
 "cells": [
  {
   "cell_type": "code",
   "execution_count": 1,
   "id": "aee3962c-66eb-4f55-a885-1189cefe8fbe",
   "metadata": {},
   "outputs": [
    {
     "name": "stdout",
     "output_type": "stream",
     "text": [
      "Jupyter environment detected. Enabling Open3D WebVisualizer.\n",
      "[Open3D INFO] WebRTC GUI backend enabled.\n",
      "[Open3D INFO] WebRTCWindowSystem: HTTP handshake server disabled.\n"
     ]
    }
   ],
   "source": [
    "import open3d as o3d\n",
    "import numpy as np\n",
    "from IPython.display import display, HTML"
   ]
  },
  {
   "cell_type": "code",
   "execution_count": 2,
   "id": "3de3140d-2b51-4a97-8d3f-281b3a134567",
   "metadata": {},
   "outputs": [],
   "source": [
    "def load_point_cloud(file_path):\n",
    "    \"\"\"Load a point cloud from a file.\"\"\"\n",
    "    cloud = o3d.io.read_point_cloud(file_path)\n",
    "    return cloud\n",
    "\n",
    "def align_point_clouds(source_cloud, target_cloud):\n",
    "    \"\"\"Align two point clouds using ICP.\"\"\"\n",
    "    icp_transformation = o3d.pipelines.registration.registration_icp(\n",
    "        source_cloud, target_cloud, max_correspondence_distance=25,\n",
    "        estimation_method=o3d.pipelines.registration.TransformationEstimationPointToPoint(),\n",
    "        criteria=o3d.pipelines.registration.ICPConvergenceCriteria(max_iteration=1000)\n",
    "    )\n",
    "\n",
    "    aligned_source_cloud = source_cloud.transform(icp_transformation.transformation)\n",
    "    return aligned_source_cloud\n",
    "\n",
    "def save_point_cloud(file_path, point_cloud):\n",
    "    \"\"\"Save a point cloud to a file.\"\"\"\n",
    "    o3d.io.write_point_cloud(file_path, point_cloud)\n",
    "\n",
    "def visualize_pointcloud(pointcloud):\n",
    "    vis = o3d.visualization.Visualizer()\n",
    "    vis.create_window()\n",
    "    vis.add_geometry(pointcloud)\n",
    "\n",
    "    # Capture the generated image and display it in the notebook\n",
    "    image = vis.capture_screen_float_buffer(True)\n",
    "    display(o3d.visualization.draw_geometries_with_animation_callback([pointcloud], vis, interval=50))\n",
    "    \n",
    "    # Clean up resources after visualization\n",
    "    vis.destroy_window()\n",
    "\n",
    "def downsample_pointcloud(pointcloud, voxel_size):\n",
    "    # Voxel downsample the point cloud\n",
    "    downsampled_pc = pointcloud.voxel_down_sample(voxel_size)\n",
    "    return downsampled_pc\n",
    "    "
   ]
  },
  {
   "cell_type": "code",
   "execution_count": 14,
   "id": "d8638dd3-da33-4953-aed3-9124ff2badad",
   "metadata": {},
   "outputs": [],
   "source": [
    "source_path = \"../output/bim.ply\"\n",
    "#target_path = \"../output/pcfull.ply\" #Pointcloud from depth using groundtruth poses\n",
    "target_path = \"../output/pcfull_off.ply\" #Pointcloud from depth using offset groundtruth poses\n",
    "\n",
    "\n",
    "source_cloud = load_point_cloud(source_path)\n",
    "target_cloud = load_point_cloud(target_path)"
   ]
  },
  {
   "cell_type": "code",
   "execution_count": 16,
   "id": "49649e38-a3f8-41a4-af6d-e676751b7dbb",
   "metadata": {},
   "outputs": [],
   "source": [
    "o3d.visualization.draw_geometries([source_cloud, target_cloud ])"
   ]
  },
  {
   "cell_type": "code",
   "execution_count": 17,
   "id": "359112e9-31b4-4891-a891-9bc929de5be3",
   "metadata": {},
   "outputs": [],
   "source": [
    "source_cloud = np.asarray(source_cloud.points).astype(np.float32)\n",
    "target_cloud = np.asarray(target_cloud.points).astype(np.float32)"
   ]
  },
  {
   "cell_type": "code",
   "execution_count": 18,
   "id": "7c51fa3a-1dac-448d-b84f-e501289bfa21",
   "metadata": {},
   "outputs": [
    {
     "name": "stdout",
     "output_type": "stream",
     "text": [
      "Source Center:  [163.78734   99.141884  11.349497]\n",
      "Target Center:  [25.860271  12.604036   5.8141937]\n",
      "Offset:  [-137.92706   -86.53785    -5.535303]\n"
     ]
    }
   ],
   "source": [
    "source_center = np.mean(source_cloud, axis=0)\n",
    "print('Source Center: ', source_center)\n",
    "target_center = np.mean(target_cloud, axis=0)\n",
    "print('Target Center: ',target_center)\n",
    "diff = target_center - source_center\n",
    "print('Offset: ', diff)\n",
    "source_cloud_recentered = source_cloud + diff"
   ]
  },
  {
   "cell_type": "code",
   "execution_count": 19,
   "id": "a4afc696-85a3-453c-80a5-76f677a50d7a",
   "metadata": {},
   "outputs": [],
   "source": [
    "source_cloud_recentered_o3 = o3d.geometry.PointCloud()\n",
    "source_cloud_recentered_o3.points = o3d.utility.Vector3dVector(source_cloud_recentered)\n",
    "\n",
    "target_cloud_o3 = o3d.geometry.PointCloud()\n",
    "target_cloud_o3.points = o3d.utility.Vector3dVector(target_cloud)"
   ]
  },
  {
   "cell_type": "code",
   "execution_count": 20,
   "id": "0a63c16c-0c4c-4e1b-b222-3dba24425c12",
   "metadata": {},
   "outputs": [],
   "source": [
    "o3d.visualization.draw_geometries([target_cloud_o3, source_cloud_recentered_o3])"
   ]
  },
  {
   "cell_type": "code",
   "execution_count": 21,
   "id": "67f3cfee-4bf0-4036-b356-2dc689f832e5",
   "metadata": {},
   "outputs": [],
   "source": [
    "aligned_source_cloud = align_point_clouds(source_cloud_recentered_o3, target_cloud_o3)"
   ]
  },
  {
   "cell_type": "code",
   "execution_count": 22,
   "id": "bbbffe66-8532-427d-b3e1-e410b6968c17",
   "metadata": {},
   "outputs": [],
   "source": [
    "o3d.visualization.draw_geometries([aligned_source_cloud,  target_cloud_o3])"
   ]
  },
  {
   "cell_type": "code",
   "execution_count": 24,
   "id": "53f55d95-5eb4-4560-b3f6-3f1b93686125",
   "metadata": {},
   "outputs": [],
   "source": [
    "aligned_ply_path = \"../output/aligned_off.ply\"\n",
    "save_point_cloud(aligned_ply_path, aligned_source_cloud)"
   ]
  }
 ],
 "metadata": {
  "kernelspec": {
   "display_name": "Python 3 (ipykernel)",
   "language": "python",
   "name": "python3"
  },
  "language_info": {
   "codemirror_mode": {
    "name": "ipython",
    "version": 3
   },
   "file_extension": ".py",
   "mimetype": "text/x-python",
   "name": "python",
   "nbconvert_exporter": "python",
   "pygments_lexer": "ipython3",
   "version": "3.9.18"
  }
 },
 "nbformat": 4,
 "nbformat_minor": 5
}
