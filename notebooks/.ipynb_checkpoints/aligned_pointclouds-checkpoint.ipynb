{
 "cells": [
  {
   "cell_type": "code",
   "execution_count": 1,
   "id": "aee3962c-66eb-4f55-a885-1189cefe8fbe",
   "metadata": {},
   "outputs": [
    {
     "ename": "ModuleNotFoundError",
     "evalue": "No module named 'open3d'",
     "output_type": "error",
     "traceback": [
      "\u001b[0;31m---------------------------------------------------------------------------\u001b[0m",
      "\u001b[0;31mModuleNotFoundError\u001b[0m                       Traceback (most recent call last)",
      "Cell \u001b[0;32mIn[1], line 1\u001b[0m\n\u001b[0;32m----> 1\u001b[0m \u001b[38;5;28;01mimport\u001b[39;00m \u001b[38;5;21;01mopen3d\u001b[39;00m \u001b[38;5;28;01mas\u001b[39;00m \u001b[38;5;21;01mo3d\u001b[39;00m\n\u001b[1;32m      2\u001b[0m \u001b[38;5;28;01mimport\u001b[39;00m \u001b[38;5;21;01mnumpy\u001b[39;00m \u001b[38;5;28;01mas\u001b[39;00m \u001b[38;5;21;01mnp\u001b[39;00m\n",
      "\u001b[0;31mModuleNotFoundError\u001b[0m: No module named 'open3d'"
     ]
    }
   ],
   "source": [
    "import open3d as o3d\n",
    "import numpy as np"
   ]
  },
  {
   "cell_type": "code",
   "execution_count": null,
   "id": "3de3140d-2b51-4a97-8d3f-281b3a134567",
   "metadata": {},
   "outputs": [],
   "source": [
    "def load_point_cloud(file_path):\n",
    "    \"\"\"Load a point cloud from a file.\"\"\"\n",
    "    cloud = o3d.io.read_point_cloud(file_path)\n",
    "    return cloud\n",
    "\n",
    "def align_point_clouds(source_cloud, target_cloud):\n",
    "    \"\"\"Align two point clouds using ICP.\"\"\"\n",
    "    icp_transformation = o3d.pipelines.registration.registration_icp(\n",
    "        source_cloud, target_cloud, max_correspondence_distance=25,\n",
    "        estimation_method=o3d.pipelines.registration.TransformationEstimationPointToPoint(),\n",
    "        criteria=o3d.pipelines.registration.ICPConvergenceCriteria(max_iteration=1000)\n",
    "    )\n",
    "\n",
    "    aligned_source_cloud = source_cloud.transform(icp_transformation.transformation)\n",
    "    return aligned_source_cloud\n",
    "\n",
    "def save_point_cloud(file_path, point_cloud):\n",
    "    \"\"\"Save a point cloud to a file.\"\"\"\n",
    "    o3d.io.write_point_cloud(file_path, point_cloud)"
   ]
  },
  {
   "cell_type": "code",
   "execution_count": null,
   "id": "d8638dd3-da33-4953-aed3-9124ff2badad",
   "metadata": {},
   "outputs": [],
   "source": [
    "ply_path = \"../output/bim.ply\"\n",
    "obj_path = \"../output/pcfull.ply\"\n",
    "\n",
    "source_cloud = load_point_cloud(ply_path)\n",
    "target_cloud = load_point_cloud(obj_path)"
   ]
  },
  {
   "cell_type": "code",
   "execution_count": null,
   "id": "54c411db-09c1-44ed-99a9-ba5b330bb0b1",
   "metadata": {},
   "outputs": [],
   "source": [
    "visualizer = JVisualizer()\n",
    "visualizer.add_geometry(pcd)\n",
    "visualizer.show()"
   ]
  },
  {
   "cell_type": "code",
   "execution_count": null,
   "id": "fd5a6a55-48c3-4ba4-86ba-51c2040c9af7",
   "metadata": {},
   "outputs": [],
   "source": [
    "source_cloud = np.asarray(load_point_cloud(ply_path).points).astype(np.float32)\n",
    "target_cloud = np.asarray(load_point_cloud(obj_path).points).astype(np.float32)"
   ]
  },
  {
   "cell_type": "code",
   "execution_count": null,
   "id": "b9e7a165-8fd7-430c-a694-2b03836716ba",
   "metadata": {},
   "outputs": [],
   "source": [
    "source_center = np.mean(source_cloud, axis=0)\n",
    "print(source_center)\n",
    "target_center = np.mean(target_cloud, axis=0)\n",
    "print(target_center)\n",
    "diff = target_center - source_center\n",
    "print(diff)\n",
    "source_cloud = source_cloud + diff\n",
    "print(np.mean(source_cloud))"
   ]
  }
 ],
 "metadata": {
  "kernelspec": {
   "display_name": "Python 3 (ipykernel)",
   "language": "python",
   "name": "python3"
  },
  "language_info": {
   "codemirror_mode": {
    "name": "ipython",
    "version": 3
   },
   "file_extension": ".py",
   "mimetype": "text/x-python",
   "name": "python",
   "nbconvert_exporter": "python",
   "pygments_lexer": "ipython3",
   "version": "3.9.18"
  }
 },
 "nbformat": 4,
 "nbformat_minor": 5
}
